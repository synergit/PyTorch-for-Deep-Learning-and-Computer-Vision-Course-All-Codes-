{
  "nbformat": 4,
  "nbformat_minor": 0,
  "metadata": {
    "colab": {
      "name": "deep-nn.ipynb",
      "provenance": [],
      "collapsed_sections": [],
      "authorship_tag": "ABX9TyN1B/EcFcNqnhgSueKu538s",
      "include_colab_link": true
    },
    "kernelspec": {
      "name": "python3",
      "display_name": "Python 3"
    }
  },
  "cells": [
    {
      "cell_type": "markdown",
      "metadata": {
        "id": "view-in-github",
        "colab_type": "text"
      },
      "source": [
        "<a href=\"https://colab.research.google.com/github/synergit/PyTorch-for-Deep-Learning-and-Computer-Vision-Course-All-Codes-/blob/dev/deep_nn.ipynb\" target=\"_parent\"><img src=\"https://colab.research.google.com/assets/colab-badge.svg\" alt=\"Open In Colab\"/></a>"
      ]
    },
    {
      "cell_type": "code",
      "metadata": {
        "id": "QwB9y0v92WTY",
        "colab": {
          "base_uri": "https://localhost:8080/"
        },
        "outputId": "727085da-dc14-41a6-f2d8-229232c28b8b"
      },
      "source": [
        "!pip3 install torch"
      ],
      "execution_count": 64,
      "outputs": [
        {
          "output_type": "stream",
          "text": [
            "Requirement already satisfied: torch in /usr/local/lib/python3.6/dist-packages (1.7.0+cu101)\n",
            "Requirement already satisfied: future in /usr/local/lib/python3.6/dist-packages (from torch) (0.16.0)\n",
            "Requirement already satisfied: dataclasses in /usr/local/lib/python3.6/dist-packages (from torch) (0.8)\n",
            "Requirement already satisfied: typing-extensions in /usr/local/lib/python3.6/dist-packages (from torch) (3.7.4.3)\n",
            "Requirement already satisfied: numpy in /usr/local/lib/python3.6/dist-packages (from torch) (1.19.4)\n"
          ],
          "name": "stdout"
        }
      ]
    },
    {
      "cell_type": "code",
      "metadata": {
        "id": "OOmHWxznhgzw"
      },
      "source": [
        "import torch\n",
        "import numpy as np\n",
        "import matplotlib.pyplot as plt\n",
        "from sklearn import datasets\n",
        "import torch.nn as nn"
      ],
      "execution_count": 65,
      "outputs": []
    },
    {
      "cell_type": "code",
      "metadata": {
        "colab": {
          "base_uri": "https://localhost:8080/",
          "height": 265
        },
        "id": "pUUGxy5thrWR",
        "outputId": "4701d0e4-d905-40d0-8f08-b7c0f75c2652"
      },
      "source": [
        "n_pts = 500\n",
        "X, y = datasets.make_circles(n_samples=n_pts, random_state=123, noise=0.1, factor=0.2)\n",
        "\n",
        "x_data = torch.Tensor(X)\n",
        "y_data = torch.Tensor(y.reshape(500, 1))\n",
        "def scatter_plot():\n",
        "  plt.scatter(X[y==0, 0], X[y==0, 1]) \n",
        "  plt.scatter(X[y==1, 0], X[y==1, 1])\n",
        "\n",
        "scatter_plot()"
      ],
      "execution_count": 66,
      "outputs": [
        {
          "output_type": "display_data",
          "data": {
            "image/png": "[encoded data removed]",
            "text/plain": [
              "<Figure size 432x288 with 1 Axes>"
            ]
          },
          "metadata": {
            "tags": [],
            "needs_background": "light"
          }
        }
      ]
    },
    {
      "cell_type": "code",
      "metadata": {
        "id": "_1HqfH_-tet0"
      },
      "source": [
        "class Model(nn.Module):\n",
        "  def __init__(self, input_size, H1, output_size): # H1 hidden layer\n",
        "    super().__init__()\n",
        "    self.linear = nn.Linear(input_size, H1)\n",
        "    self.linear2 = nn.Linear(H1, output_size)\n",
        "\n",
        "\n",
        "  def forward(self, x):\n",
        "    x = torch.sigmoid(self.linear(x))\n",
        "    pred = torch.sigmoid(self.linear2(x))\n",
        "    return pred\n",
        "\n",
        "  def predict(self, x):\n",
        "    pred = self.forward(x)\n",
        "    if pred >= 0.5:\n",
        "      return 1\n",
        "    else:\n",
        "      return 0"
      ],
      "execution_count": 67,
      "outputs": []
    },
    {
      "cell_type": "code",
      "metadata": {
        "colab": {
          "base_uri": "https://localhost:8080/"
        },
        "id": "jxB-c4t0ulBj",
        "outputId": "01892718-29e8-4429-a768-da80b519d66a"
      },
      "source": [
        "torch.manual_seed(2)\n",
        "model = Model(2, 3, 1)\n",
        "print(list(model.parameters()))"
      ],
      "execution_count": 68,
      "outputs": [
        {
          "output_type": "stream",
          "text": [
            "[Parameter containing:\n",
            "tensor([[ 0.1622, -0.1683],\n",
            "        [ 0.1939, -0.0361],\n",
            "        [ 0.3021,  0.1683]], requires_grad=True), Parameter containing:\n",
            "tensor([-0.0813, -0.5717,  0.1614], requires_grad=True), Parameter containing:\n",
            "tensor([[-0.5112,  0.0759,  0.0384]], requires_grad=True), Parameter containing:\n",
            "tensor([-0.1270], requires_grad=True)]\n"
          ],
          "name": "stdout"
        }
      ]
    },
    {
      "cell_type": "code",
      "metadata": {
        "id": "UYrPt_Wkw0XM"
      },
      "source": [
        "criterion = nn.BCELoss()\n",
        "optimizer = torch.optim.Adam(model.parameters(), lr=0.1)\n"
      ],
      "execution_count": 69,
      "outputs": []
    },
    {
      "cell_type": "code",
      "metadata": {
        "id": "nEePwT1B2W95"
      },
      "source": [
        "epochs = 1000\n",
        "losses = []\n",
        "for i in range(epochs):\n",
        "  y_pred = model.forward(x_data)\n",
        "  loss = criterion(y_pred, y_data)\n",
        "  # print(f'epoch: {i}, loss: {loss.item()}')\n",
        "  losses.append(loss.item())\n",
        "  optimizer.zero_grad()\n",
        "  loss.backward()\n",
        "  optimizer.step()\n"
      ],
      "execution_count": 70,
      "outputs": []
    },
    {
      "cell_type": "code",
      "metadata": {
        "colab": {
          "base_uri": "https://localhost:8080/",
          "height": 296
        },
        "id": "998R4DlX5Xxp",
        "outputId": "143a7ada-0900-41ac-da41-916473a90d4d"
      },
      "source": [
        "plt.plot(range(epochs), losses)\n",
        "plt.xlabel('Loss')\n",
        "plt.ylabel('epoch')"
      ],
      "execution_count": 71,
      "outputs": [
        {
          "output_type": "execute_result",
          "data": {
            "text/plain": [
              "Text(0, 0.5, 'epoch')"
            ]
          },
          "metadata": {
            "tags": []
          },
          "execution_count": 71
        },
        {
          "output_type": "display_data",
          "data": {
            "image/png": "[encoded data removed]",
            "text/plain": [
              "<Figure size 432x288 with 1 Axes>"
            ]
          },
          "metadata": {
            "tags": [],
            "needs_background": "light"
          }
        }
      ]
    },
    {
      "cell_type": "code",
      "metadata": {
        "id": "wb-Z-1N1WpK5"
      },
      "source": [
        "def plot_decision_boundary(X, y):\n",
        "  x_span = np.linspace(min(X[:, 0]) - 0.25, max(X[:, 0])+0.25) \n",
        "  y_span = np.linspace(min(X[:, 1]) - 0.25, max(X[:, 1])+0.25) \n",
        "  xx, yy = np.meshgrid(x_span, y_span)\n",
        "  # print(x_span)\n",
        "  # print(y_span) \n",
        "  grid = torch.Tensor(np.c_[xx.ravel(), yy.ravel()])\n",
        "  pred_func = model.forward(grid)\n",
        "  z = pred_func.view(xx.shape).detach().numpy()\n",
        "  plt.contourf(xx, yy, z)\n"
      ],
      "execution_count": 74,
      "outputs": []
    },
    {
      "cell_type": "code",
      "metadata": {
        "colab": {
          "base_uri": "https://localhost:8080/",
          "height": 265
        },
        "id": "s3_IoBqzYKzN",
        "outputId": "266e128e-cef5-438d-b6d4-7ebc733c77af"
      },
      "source": [
        "plot_decision_boundary(X, y)\n",
        "scatter_plot()"
      ],
      "execution_count": 75,
      "outputs": [
        {
          "output_type": "display_data",
          "data": {
            "image/png": "[encoded data removed]",
            "text/plain": [
              "<Figure size 432x288 with 1 Axes>"
            ]
          },
          "metadata": {
            "tags": [],
            "needs_background": "light"
          }
        }
      ]
    },
    {
      "cell_type": "code",
      "metadata": {
        "colab": {
          "base_uri": "https://localhost:8080/",
          "height": 282
        },
        "id": "cYkUnV7gcC0Z",
        "outputId": "eedeebb2-2224-4497-ebaf-15d8d54b5d85"
      },
      "source": [
        "x = 0.025\n",
        "y = 0.025\n",
        "point = torch.Tensor([x, y])\n",
        "pred = model.predict(point)\n",
        "plt.plot([x], [y], marker='o', markersize=10, color='green')\n",
        "print(f'prediction={pred}')\n",
        "plot_decision_boundary(X, y)"
      ],
      "execution_count": 77,
      "outputs": [
        {
          "output_type": "stream",
          "text": [
            "prediction=1\n"
          ],
          "name": "stdout"
        },
        {
          "output_type": "display_data",
          "data": {
            "image/png": "[encoded data removed]",
            "text/plain": [
              "<Figure size 432x288 with 1 Axes>"
            ]
          },
          "metadata": {
            "tags": [],
            "needs_background": "light"
          }
        }
      ]
    }
  ]
}