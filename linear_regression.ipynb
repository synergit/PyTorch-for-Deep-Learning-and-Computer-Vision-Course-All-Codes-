{
  "nbformat": 4,
  "nbformat_minor": 0,
  "metadata": {
    "colab": {
      "name": "linear_regression.ipynb",
      "provenance": [],
      "collapsed_sections": [],
      "authorship_tag": "ABX9TyNvHAV5wDMnwCyHTpV5WyVf",
      "include_colab_link": true
    },
    "kernelspec": {
      "name": "python3",
      "display_name": "Python 3"
    }
  },
  "cells": [
    {
      "cell_type": "markdown",
      "metadata": {
        "id": "view-in-github",
        "colab_type": "text"
      },
      "source": [
        "<a href=\"https://colab.research.google.com/github/synergit/PyTorch-for-Deep-Learning-and-Computer-Vision-Course-All-Codes-/blob/dev/linear_regression.ipynb\" target=\"_parent\"><img src=\"https://colab.research.google.com/assets/colab-badge.svg\" alt=\"Open In Colab\"/></a>"
      ]
    },
    {
      "cell_type": "code",
      "metadata": {
        "colab": {
          "base_uri": "https://localhost:8080/"
        },
        "id": "DeIWZvV1oSI3",
        "outputId": "028cac47-c094-4082-8d57-496e3a023909"
      },
      "source": [
        "!pip3 install torch\n",
        "import torch\n",
        "import torch.nn as nn\n",
        "import matplotlib.pyplot as plt\n",
        "import numpy as np\n",
        "\n"
      ],
      "execution_count": null,
      "outputs": [
        {
          "output_type": "stream",
          "text": [
            "Requirement already satisfied: torch in /usr/local/lib/python3.6/dist-packages (1.7.0+cu101)\n",
            "Requirement already satisfied: typing-extensions in /usr/local/lib/python3.6/dist-packages (from torch) (3.7.4.3)\n",
            "Requirement already satisfied: dataclasses in /usr/local/lib/python3.6/dist-packages (from torch) (0.8)\n",
            "Requirement already satisfied: numpy in /usr/local/lib/python3.6/dist-packages (from torch) (1.19.4)\n",
            "Requirement already satisfied: future in /usr/local/lib/python3.6/dist-packages (from torch) (0.16.0)\n"
          ],
          "name": "stdout"
        }
      ]
    },
    {
      "cell_type": "code",
      "metadata": {
        "colab": {
          "base_uri": "https://localhost:8080/",
          "height": 296
        },
        "id": "ZyxAMajMXmeb",
        "outputId": "5b061bbd-50b5-415b-f59b-05b6a5b3bc99"
      },
      "source": [
        "x = torch.randn(100, 1)*10\n",
        "y = x + 3*torch.randn(100, 1)\n",
        "plt.plot(x.numpy(), y.numpy(), 'o')\n",
        "plt.ylabel('y')\n",
        "plt.xlabel('x')"
      ],
      "execution_count": null,
      "outputs": [
        {
          "output_type": "execute_result",
          "data": {
            "text/plain": [
              "Text(0.5, 0, 'x')"
            ]
          },
          "metadata": {
            "tags": []
          },
          "execution_count": 9
        },
        {
          "output_type": "display_data",
          "data": {
            "image/png": "[encoded data removed]",
            "text/plain": [
              "<Figure size 432x288 with 1 Axes>"
            ]
          },
          "metadata": {
            "tags": [],
            "needs_background": "light"
          }
        }
      ]
    },
    {
      "cell_type": "code",
      "metadata": {
        "colab": {
          "base_uri": "https://localhost:8080/",
          "height": 316
        },
        "id": "mu-dd3lTmF-M",
        "outputId": "71c04eb9-7cda-4b98-af96-54ef74e7d203"
      },
      "source": [
        "# define a Linear Regression class\n",
        "class LR(nn.Module):\n",
        "  def __init__(self, input_size, output_size):\n",
        "    super().__init__()\n",
        "    self.linear = nn.Linear(input_size, output_size)\n",
        "  def forward(self, x):\n",
        "    pred = self.linear(x)\n",
        "    return pred\n",
        "\n",
        "torch.manual_seed(1)\n",
        "model = LR(1, 1)\n",
        "print(list(model.parameters()))\n",
        "# model.forward(torch.tensor([[1.0], [2.0]]))\n",
        "def get_params():\n",
        "  [w, b] = model.parameters()  \n",
        "  return (w[0][0].item(), b[0].item())\n",
        "\n",
        "def plot_fit(title):\n",
        "  plt.title = title\n",
        "  w1, b1 = get_params()\n",
        "  x1 = np.array([-30, 30])\n",
        "  y1 = w1*x1+b1\n",
        "  plt.plot(x1, y1, 'r')\n",
        "  plt.scatter(x, y)\n",
        "  plt.show()\n",
        "\n",
        "plot_fit(\"title\")\n"
      ],
      "execution_count": null,
      "outputs": [
        {
          "output_type": "stream",
          "text": [
            "[Parameter containing:\n",
            "tensor([[0.5153]], requires_grad=True), Parameter containing:\n",
            "tensor([-0.4414], requires_grad=True)]\n"
          ],
          "name": "stdout"
        },
        {
          "output_type": "display_data",
          "data": {
            "image/png": "[encoded data removed]",
            "text/plain": [
              "<Figure size 432x288 with 1 Axes>"
            ]
          },
          "metadata": {
            "tags": [],
            "needs_background": "light"
          }
        }
      ]
    },
    {
      "cell_type": "code",
      "metadata": {
        "id": "jyJOjy6jqrhs"
      },
      "source": [
        "criteria = nn.MSELoss()\n",
        "optimizer = torch.optim.SGD(model.parameters(), lr=0.009)"
      ],
      "execution_count": null,
      "outputs": []
    },
    {
      "cell_type": "code",
      "metadata": {
        "colab": {
          "base_uri": "https://localhost:8080/"
        },
        "id": "PI-WxPPsrngj",
        "outputId": "e675a8ae-878a-43b8-ad36-4c90fe4cf5d9"
      },
      "source": [
        "epochs = 100\n",
        "losses = []\n",
        "for i in range(epochs):\n",
        "  y_pred = model.forward(x)\n",
        "  loss = criteria(y_pred, y)\n",
        "  print(f'epoch: {i}, loss: {loss.item()}')\n",
        "  losses.append(loss)\n",
        "  optimizer.zero_grad()\n",
        "  loss.backward()\n",
        "  optimizer.step()"
      ],
      "execution_count": null,
      "outputs": [
        {
          "output_type": "stream",
          "text": [
            "epoch: 0, loss: 36.448326110839844\n",
            "epoch: 1, loss: 31.844823837280273\n",
            "epoch: 2, loss: 27.999404907226562\n",
            "epoch: 3, loss: 24.787145614624023\n",
            "epoch: 4, loss: 22.103683471679688\n",
            "epoch: 5, loss: 19.861900329589844\n",
            "epoch: 6, loss: 17.988998413085938\n",
            "epoch: 7, loss: 16.424192428588867\n",
            "epoch: 8, loss: 15.116710662841797\n",
            "epoch: 9, loss: 14.024168968200684\n",
            "epoch: 10, loss: 13.111153602600098\n",
            "epoch: 11, loss: 12.348077774047852\n",
            "epoch: 12, loss: 11.710254669189453\n",
            "epoch: 13, loss: 11.177058219909668\n",
            "epoch: 14, loss: 10.731252670288086\n",
            "epoch: 15, loss: 10.358451843261719\n",
            "epoch: 16, loss: 10.046638488769531\n",
            "epoch: 17, loss: 9.785775184631348\n",
            "epoch: 18, loss: 9.567477226257324\n",
            "epoch: 19, loss: 9.384745597839355\n",
            "epoch: 20, loss: 9.231730461120605\n",
            "epoch: 21, loss: 9.103549003601074\n",
            "epoch: 22, loss: 8.996118545532227\n",
            "epoch: 23, loss: 8.906033515930176\n",
            "epoch: 24, loss: 8.830448150634766\n",
            "epoch: 25, loss: 8.766982078552246\n",
            "epoch: 26, loss: 8.713651657104492\n",
            "epoch: 27, loss: 8.66879653930664\n",
            "epoch: 28, loss: 8.631030082702637\n",
            "epoch: 29, loss: 8.599194526672363\n",
            "epoch: 30, loss: 8.5723237991333\n",
            "epoch: 31, loss: 8.549609184265137\n",
            "epoch: 32, loss: 8.530372619628906\n",
            "epoch: 33, loss: 8.514053344726562\n",
            "epoch: 34, loss: 8.500179290771484\n",
            "epoch: 35, loss: 8.488351821899414\n",
            "epoch: 36, loss: 8.47824764251709\n",
            "epoch: 37, loss: 8.469585418701172\n",
            "epoch: 38, loss: 8.462138175964355\n",
            "epoch: 39, loss: 8.45571231842041\n",
            "epoch: 40, loss: 8.45014762878418\n",
            "epoch: 41, loss: 8.445308685302734\n",
            "epoch: 42, loss: 8.441080093383789\n",
            "epoch: 43, loss: 8.437372207641602\n",
            "epoch: 44, loss: 8.434102058410645\n",
            "epoch: 45, loss: 8.431205749511719\n",
            "epoch: 46, loss: 8.428624153137207\n",
            "epoch: 47, loss: 8.426314353942871\n",
            "epoch: 48, loss: 8.424236297607422\n",
            "epoch: 49, loss: 8.422356605529785\n",
            "epoch: 50, loss: 8.420645713806152\n",
            "epoch: 51, loss: 8.419083595275879\n",
            "epoch: 52, loss: 8.41765022277832\n",
            "epoch: 53, loss: 8.416325569152832\n",
            "epoch: 54, loss: 8.41510009765625\n",
            "epoch: 55, loss: 8.413959503173828\n",
            "epoch: 56, loss: 8.412896156311035\n",
            "epoch: 57, loss: 8.411898612976074\n",
            "epoch: 58, loss: 8.41096019744873\n",
            "epoch: 59, loss: 8.410076141357422\n",
            "epoch: 60, loss: 8.409239768981934\n",
            "epoch: 61, loss: 8.408446311950684\n",
            "epoch: 62, loss: 8.407693862915039\n",
            "epoch: 63, loss: 8.406976699829102\n",
            "epoch: 64, loss: 8.406294822692871\n",
            "epoch: 65, loss: 8.405643463134766\n",
            "epoch: 66, loss: 8.405019760131836\n",
            "epoch: 67, loss: 8.404422760009766\n",
            "epoch: 68, loss: 8.403852462768555\n",
            "epoch: 69, loss: 8.403304100036621\n",
            "epoch: 70, loss: 8.402778625488281\n",
            "epoch: 71, loss: 8.402273178100586\n",
            "epoch: 72, loss: 8.401787757873535\n",
            "epoch: 73, loss: 8.401321411132812\n",
            "epoch: 74, loss: 8.400871276855469\n",
            "epoch: 75, loss: 8.400440216064453\n",
            "epoch: 76, loss: 8.400023460388184\n",
            "epoch: 77, loss: 8.39962387084961\n",
            "epoch: 78, loss: 8.399236679077148\n",
            "epoch: 79, loss: 8.398865699768066\n",
            "epoch: 80, loss: 8.398506164550781\n",
            "epoch: 81, loss: 8.398160934448242\n",
            "epoch: 82, loss: 8.3978271484375\n",
            "epoch: 83, loss: 8.397505760192871\n",
            "epoch: 84, loss: 8.397197723388672\n",
            "epoch: 85, loss: 8.39689826965332\n",
            "epoch: 86, loss: 8.396610260009766\n",
            "epoch: 87, loss: 8.396332740783691\n",
            "epoch: 88, loss: 8.396063804626465\n",
            "epoch: 89, loss: 8.395805358886719\n",
            "epoch: 90, loss: 8.39555549621582\n",
            "epoch: 91, loss: 8.395315170288086\n",
            "epoch: 92, loss: 8.3950834274292\n",
            "epoch: 93, loss: 8.394858360290527\n",
            "epoch: 94, loss: 8.394643783569336\n",
            "epoch: 95, loss: 8.394433975219727\n",
            "epoch: 96, loss: 8.394233703613281\n",
            "epoch: 97, loss: 8.394039154052734\n",
            "epoch: 98, loss: 8.393852233886719\n",
            "epoch: 99, loss: 8.393671035766602\n"
          ],
          "name": "stdout"
        }
      ]
    },
    {
      "cell_type": "code",
      "metadata": {
        "colab": {
          "base_uri": "https://localhost:8080/",
          "height": 296
        },
        "id": "OR51O5JswutF",
        "outputId": "e0614553-750d-4895-dc7a-f967b5b6005c"
      },
      "source": [
        "plt.plot(range(epochs), losses)\n",
        "plt.ylabel('loss')\n",
        "plt.xlabel('epoch')"
      ],
      "execution_count": null,
      "outputs": [
        {
          "output_type": "execute_result",
          "data": {
            "text/plain": [
              "Text(0.5, 0, 'epoch')"
            ]
          },
          "metadata": {
            "tags": []
          },
          "execution_count": 13
        },
        {
          "output_type": "display_data",
          "data": {
            "image/png": "[encoded data removed]",
            "text/plain": [
              "<Figure size 432x288 with 1 Axes>"
            ]
          },
          "metadata": {
            "tags": [],
            "needs_background": "light"
          }
        }
      ]
    },
    {
      "cell_type": "code",
      "metadata": {
        "colab": {
          "base_uri": "https://localhost:8080/",
          "height": 265
        },
        "id": "DVGsggpMxIa_",
        "outputId": "5f67c5b0-6dc6-4360-8759-afef8ecb090b"
      },
      "source": [
        "plot_fit(\"fit\")"
      ],
      "execution_count": null,
      "outputs": [
        {
          "output_type": "display_data",
          "data": {
            "image/png": "[encoded data removed]",
            "text/plain": [
              "<Figure size 432x288 with 1 Axes>"
            ]
          },
          "metadata": {
            "tags": [],
            "needs_background": "light"
          }
        }
      ]
    }
  ]
}