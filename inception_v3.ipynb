{
  "nbformat": 4,
  "nbformat_minor": 0,
  "metadata": {
    "colab": {
      "name": "inception-v3.ipynb",
      "provenance": [],
      "collapsed_sections": [],
      "authorship_tag": "ABX9TyN+hRFB87HhX3khkT10WLBh",
      "include_colab_link": true
    },
    "kernelspec": {
      "name": "python3",
      "display_name": "Python 3"
    },
    "accelerator": "GPU"
  },
  "cells": [
    {
      "cell_type": "markdown",
      "metadata": {
        "id": "view-in-github",
        "colab_type": "text"
      },
      "source": [
        "<a href=\"https://colab.research.google.com/github/synergit/PyTorch-for-Deep-Learning-and-Computer-Vision-Course-All-Codes-/blob/dev/inception_v3.ipynb\" target=\"_parent\"><img src=\"https://colab.research.google.com/assets/colab-badge.svg\" alt=\"Open In Colab\"/></a>"
      ]
    },
    {
      "cell_type": "code",
      "metadata": {
        "colab": {
          "base_uri": "https://localhost:8080/"
        },
        "id": "rIGwSJKEFCuQ",
        "outputId": "e51fc7d7-137d-4699-f773-4c2d8b5b140e"
      },
      "source": [
        "!pip3 install torch"
      ],
      "execution_count": null,
      "outputs": [
        {
          "output_type": "stream",
          "text": [
            "Requirement already satisfied: torch in /usr/local/lib/python3.6/dist-packages (1.7.0+cu101)\n",
            "Requirement already satisfied: typing-extensions in /usr/local/lib/python3.6/dist-packages (from torch) (3.7.4.3)\n",
            "Requirement already satisfied: dataclasses in /usr/local/lib/python3.6/dist-packages (from torch) (0.8)\n",
            "Requirement already satisfied: numpy in /usr/local/lib/python3.6/dist-packages (from torch) (1.19.4)\n",
            "Requirement already satisfied: future in /usr/local/lib/python3.6/dist-packages (from torch) (0.16.0)\n"
          ],
          "name": "stdout"
        }
      ]
    },
    {
      "cell_type": "code",
      "metadata": {
        "id": "-BG_gIUFFXOV"
      },
      "source": [
        "import torch\n",
        "model = torch.hub.load('pytorch/vision:v0.6.0', 'inception_v3', pretrained=True)\n",
        "model.eval()"
      ],
      "execution_count": null,
      "outputs": []
    },
    {
      "cell_type": "code",
      "metadata": {
        "id": "mf8X_bwzIVYM"
      },
      "source": [
        "import urllib\n",
        "\n",
        "def download_file(url, filename):\n",
        "  try: urllib.URLopener().retrieve(url, filename)\n",
        "  except: urllib.request.urlretrieve(url, filename)\n",
        "# Download an example image from the pytorch website\n",
        "image_file = \"dog.jpg\"\n",
        "download_file(\"https://github.com/pytorch/hub/raw/master/images/dog.jpg\", image_file)\n",
        "# Download imagenet_synsets.txt\n",
        "syncsets_file = \"imagenet_synsets.txt\"\n",
        "download_file(\"https://raw.githubusercontent.com/synergit/PyTorch-for-Deep-Learning-and-Computer-Vision-Course-All-Codes-/dev/imagenet_synsets.txt\", syncsets_file)\n",
        "classes_file = 'imagenet_classes.txt'\n",
        "download_file(\"https://raw.githubusercontent.com/synergit/PyTorch-for-Deep-Learning-and-Computer-Vision-Course-All-Codes-/dev/imagenet_classes.txt\", classes_file)"
      ],
      "execution_count": null,
      "outputs": []
    },
    {
      "cell_type": "markdown",
      "metadata": {
        "id": "NOFHZxnskHrz"
      },
      "source": [
        "# New Section"
      ]
    },
    {
      "cell_type": "code",
      "metadata": {
        "id": "0M9hCMiGkMoW"
      },
      "source": [
        ""
      ],
      "execution_count": null,
      "outputs": []
    },
    {
      "cell_type": "markdown",
      "metadata": {
        "id": "It-lCLuvkIKJ"
      },
      "source": [
        "# New Section"
      ]
    },
    {
      "cell_type": "code",
      "metadata": {
        "colab": {
          "base_uri": "https://localhost:8080/"
        },
        "id": "qMqVNzVcJO6i",
        "outputId": "a508076f-4835-4c94-a6cd-62fe4b00e2cd"
      },
      "source": [
        "# sample execution (requires torchvision)\n",
        "from PIL import Image\n",
        "from torchvision import transforms\n",
        "input_image = Image.open(image_file)\n",
        "preprocess = transforms.Compose([\n",
        "    transforms.Resize(299),\n",
        "    transforms.CenterCrop(299),\n",
        "    transforms.ToTensor(),\n",
        "    transforms.Normalize(mean=[0.485, 0.456, 0.406], std=[0.229, 0.224, 0.225]),\n",
        "])\n",
        "input_tensor = preprocess(input_image)\n",
        "input_batch = input_tensor.unsqueeze(0) # create a mini-batch as expected by the model\n",
        "\n",
        "# move the input and model to GPU for speed if available\n",
        "if torch.cuda.is_available():\n",
        "    input_batch = input_batch.to('cuda')\n",
        "    model.to('cuda')\n",
        "\n",
        "with torch.no_grad():\n",
        "  output = model(input_batch)\n",
        "# Tensor of shape 1000, with confidence scores over Imagenet's 1000 classes\n",
        "# print(output[0])\n",
        "# The output has unnormalized scores. To get probabilities, you can run a softmax on it.\n",
        "# print(torch.nn.functional.softmax(output[0], dim=0))\n",
        "with open(classes_file) as f:\n",
        "  labels = [line.strip() for line in f.readlines()]\n",
        "_, index = torch.max(output, 1)\n",
        "d = {}\n",
        "# print(syncsets_file)\n",
        "with open(syncsets_file) as s:\n",
        "  for line in s:\n",
        "    (key, val) = line.split(' ', 1)\n",
        "    d[key] = val\n",
        "print(d[labels[index]])"
      ],
      "execution_count": null,
      "outputs": [
        {
          "output_type": "stream",
          "text": [
            "cuba is available\n",
            "Samoyed, Samoyede\n",
            "\n"
          ],
          "name": "stdout"
        }
      ]
    }
  ]
}